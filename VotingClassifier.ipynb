{
 "cells": [
  {
   "cell_type": "code",
   "execution_count": 1,
   "metadata": {
    "id": "TuDEc6DO7rJW"
   },
   "outputs": [],
   "source": [
    "import pandas as pd\n",
    "import numpy as np\n",
    "from sklearn import preprocessing\n",
    "from sklearn.preprocessing import StandardScaler\n",
    "from sklearn.preprocessing import MinMaxScaler\n",
    "import matplotlib.pyplot as plt\n",
    "import seaborn as sns\n",
    "from sklearn.model_selection import train_test_split,cross_val_score\n",
    "from sklearn.ensemble import VotingClassifier, RandomForestClassifier, AdaBoostClassifier\n",
    "from scipy.stats import mode\n",
    "from sklearn.metrics import accuracy_score, precision_score, recall_score, f1_score\n",
    "import pickle"
   ]
  },
  {
   "cell_type": "markdown",
   "metadata": {},
   "source": [
    "Load the dataset"
   ]
  },
  {
   "cell_type": "code",
   "execution_count": 2,
   "metadata": {
    "colab": {
     "base_uri": "https://localhost:8080/",
     "height": 206
    },
    "id": "Ze1HXlDD7rJX",
    "outputId": "1874d2cd-a38f-4fca-f106-74c729f4aa6c"
   },
   "outputs": [
    {
     "data": {
      "text/html": [
       "<div>\n",
       "<style scoped>\n",
       "    .dataframe tbody tr th:only-of-type {\n",
       "        vertical-align: middle;\n",
       "    }\n",
       "\n",
       "    .dataframe tbody tr th {\n",
       "        vertical-align: top;\n",
       "    }\n",
       "\n",
       "    .dataframe thead th {\n",
       "        text-align: right;\n",
       "    }\n",
       "</style>\n",
       "<table border=\"1\" class=\"dataframe\">\n",
       "  <thead>\n",
       "    <tr style=\"text-align: right;\">\n",
       "      <th></th>\n",
       "      <th>Lat</th>\n",
       "      <th>Long</th>\n",
       "      <th>Day</th>\n",
       "      <th>Time</th>\n",
       "      <th>Weather</th>\n",
       "      <th>Light</th>\n",
       "      <th>Severity</th>\n",
       "      <th>Sex</th>\n",
       "      <th>Age</th>\n",
       "      <th>Vehicle_type</th>\n",
       "      <th>Vehicle_age</th>\n",
       "    </tr>\n",
       "  </thead>\n",
       "  <tbody>\n",
       "    <tr>\n",
       "      <th>0</th>\n",
       "      <td>6.871939</td>\n",
       "      <td>79.901487</td>\n",
       "      <td>1.0</td>\n",
       "      <td>19.00</td>\n",
       "      <td>1.0</td>\n",
       "      <td>2.0</td>\n",
       "      <td>3.0</td>\n",
       "      <td>1.0</td>\n",
       "      <td>26.0</td>\n",
       "      <td>5.0</td>\n",
       "      <td>2.0</td>\n",
       "    </tr>\n",
       "    <tr>\n",
       "      <th>1</th>\n",
       "      <td>6.871939</td>\n",
       "      <td>79.901487</td>\n",
       "      <td>1.0</td>\n",
       "      <td>19.00</td>\n",
       "      <td>1.0</td>\n",
       "      <td>2.0</td>\n",
       "      <td>3.0</td>\n",
       "      <td>NaN</td>\n",
       "      <td>NaN</td>\n",
       "      <td>1.0</td>\n",
       "      <td>2.0</td>\n",
       "    </tr>\n",
       "    <tr>\n",
       "      <th>2</th>\n",
       "      <td>6.884665</td>\n",
       "      <td>79.907132</td>\n",
       "      <td>7.0</td>\n",
       "      <td>8.50</td>\n",
       "      <td>1.0</td>\n",
       "      <td>1.0</td>\n",
       "      <td>4.0</td>\n",
       "      <td>1.0</td>\n",
       "      <td>26.0</td>\n",
       "      <td>1.0</td>\n",
       "      <td>6.0</td>\n",
       "    </tr>\n",
       "    <tr>\n",
       "      <th>3</th>\n",
       "      <td>6.884665</td>\n",
       "      <td>79.907132</td>\n",
       "      <td>7.0</td>\n",
       "      <td>8.50</td>\n",
       "      <td>1.0</td>\n",
       "      <td>1.0</td>\n",
       "      <td>4.0</td>\n",
       "      <td>1.0</td>\n",
       "      <td>42.0</td>\n",
       "      <td>1.0</td>\n",
       "      <td>2.0</td>\n",
       "    </tr>\n",
       "    <tr>\n",
       "      <th>4</th>\n",
       "      <td>6.877136</td>\n",
       "      <td>79.892977</td>\n",
       "      <td>5.0</td>\n",
       "      <td>12.55</td>\n",
       "      <td>1.0</td>\n",
       "      <td>1.0</td>\n",
       "      <td>4.0</td>\n",
       "      <td>1.0</td>\n",
       "      <td>39.0</td>\n",
       "      <td>2.0</td>\n",
       "      <td>13.0</td>\n",
       "    </tr>\n",
       "  </tbody>\n",
       "</table>\n",
       "</div>"
      ],
      "text/plain": [
       "        Lat       Long  Day   Time  Weather  Light  Severity  Sex   Age  \\\n",
       "0  6.871939  79.901487  1.0  19.00      1.0    2.0       3.0  1.0  26.0   \n",
       "1  6.871939  79.901487  1.0  19.00      1.0    2.0       3.0  NaN   NaN   \n",
       "2  6.884665  79.907132  7.0   8.50      1.0    1.0       4.0  1.0  26.0   \n",
       "3  6.884665  79.907132  7.0   8.50      1.0    1.0       4.0  1.0  42.0   \n",
       "4  6.877136  79.892977  5.0  12.55      1.0    1.0       4.0  1.0  39.0   \n",
       "\n",
       "   Vehicle_type  Vehicle_age  \n",
       "0           5.0          2.0  \n",
       "1           1.0          2.0  \n",
       "2           1.0          6.0  \n",
       "3           1.0          2.0  \n",
       "4           2.0         13.0  "
      ]
     },
     "execution_count": 2,
     "metadata": {},
     "output_type": "execute_result"
    }
   ],
   "source": [
    "# Load the data into a Pandas DataFrame\n",
    "df = pd.read_csv(\"datasetWithNonAccidents.csv\")\n",
    "df.head()"
   ]
  },
  {
   "cell_type": "markdown",
   "metadata": {},
   "source": [
    "Data exploration and preprocessing"
   ]
  },
  {
   "cell_type": "code",
   "execution_count": 3,
   "metadata": {
    "colab": {
     "base_uri": "https://localhost:8080/"
    },
    "id": "MyFh-V9R7rJY",
    "outputId": "c108869c-f6ab-4dd2-893a-37ef86fd0fba",
    "scrolled": true
   },
   "outputs": [
    {
     "name": "stdout",
     "output_type": "stream",
     "text": [
      "Lat             30\n",
      "Long            30\n",
      "Day              5\n",
      "Time             8\n",
      "Weather          2\n",
      "Light            2\n",
      "Severity         7\n",
      "Sex             43\n",
      "Age             57\n",
      "Vehicle_type    11\n",
      "Vehicle_age     19\n",
      "dtype: int64\n"
     ]
    }
   ],
   "source": [
    "#Check for missing values\n",
    "print(df.isnull().sum())"
   ]
  },
  {
   "cell_type": "code",
   "execution_count": 4,
   "metadata": {},
   "outputs": [],
   "source": [
    "#Drop any records that contain missing values on Lat, Long columns\n",
    "df = df.dropna(subset=['Lat', 'Long'])"
   ]
  },
  {
   "cell_type": "code",
   "execution_count": 5,
   "metadata": {},
   "outputs": [],
   "source": [
    "# Outlier detection using Interquartile range (IQR)\n",
    "def detect_outliers(df, var):\n",
    "    Q1 = df[var].quantile(0.25)\n",
    "    Q3 = df[var].quantile(0.75)\n",
    "    IQR = Q3 - Q1\n",
    "    lower_bound = Q1 - 1.5 * IQR\n",
    "    upper_bound = Q3 + 1.5 * IQR\n",
    "    outliers = df[(df[var] < lower_bound) | (df[var] > upper_bound)]\n",
    "    return outliers\n",
    "\n",
    "outliers_lat = detect_outliers(df, 'Lat')\n",
    "outliers_lon = detect_outliers(df, 'Long')\n",
    "outliers_time = detect_outliers(df, 'Time')\n",
    "outliers_age = detect_outliers(df, 'Age')\n",
    "outliers_vehicle_age = detect_outliers(df, 'Vehicle_age')"
   ]
  },
  {
   "cell_type": "code",
   "execution_count": 6,
   "metadata": {
    "id": "GA0REQX77rJY"
   },
   "outputs": [],
   "source": [
    "# Replace missing values with mode of the column\n",
    "df.fillna(df.mode().iloc[0], inplace=True)"
   ]
  },
  {
   "cell_type": "code",
   "execution_count": 7,
   "metadata": {},
   "outputs": [
    {
     "data": {
      "text/plain": [
       "(944, 11)"
      ]
     },
     "execution_count": 7,
     "metadata": {},
     "output_type": "execute_result"
    }
   ],
   "source": [
    "df.shape"
   ]
  },
  {
   "attachments": {},
   "cell_type": "markdown",
   "metadata": {},
   "source": [
    "Feature Engineering"
   ]
  },
  {
   "cell_type": "code",
   "execution_count": 8,
   "metadata": {
    "id": "w_I_9B53PI0A"
   },
   "outputs": [],
   "source": [
    "#Scaling\n",
    "scaler = StandardScaler()\n",
    "\n",
    "# def normalize(features):\n",
    "#   scaled_data = preprocessing.normalize(features, axis=0)\n",
    "#   print(scaled_data)\n",
    "#   return scaled_data\n",
    "\n",
    "def standardization(features):\n",
    "  # scaler = StandardScaler()\n",
    "  scaled_data = scaler.fit_transform(features);\n",
    "  print(scaled_data)\n",
    "  return scaled_data\n",
    "\n",
    "# def minMaxScaler(features): \n",
    "#   scaler = MinMaxScaler()\n",
    "#   scaled_data = scaler.fit_transform(features);\n",
    "#   print(scaled_data)\n",
    "#   return scaled_data\n"
   ]
  },
  {
   "cell_type": "markdown",
   "metadata": {},
   "source": [
    "Feature selection"
   ]
  },
  {
   "cell_type": "code",
   "execution_count": 9,
   "metadata": {},
   "outputs": [
    {
     "name": "stdout",
     "output_type": "stream",
     "text": [
      "                   Lat      Long       Day      Time   Weather     Light  \\\n",
      "Lat           1.000000 -0.080745  0.032522 -0.017865 -0.117386 -0.042416   \n",
      "Long         -0.080745  1.000000  0.122725  0.033529  0.108849  0.075577   \n",
      "Day           0.032522  0.122725  1.000000  0.003181  0.006047  0.008552   \n",
      "Time         -0.017865  0.033529  0.003181  1.000000 -0.027238  0.239278   \n",
      "Weather      -0.117386  0.108849  0.006047 -0.027238  1.000000  0.157372   \n",
      "Light        -0.042416  0.075577  0.008552  0.239278  0.157372  1.000000   \n",
      "Severity      0.247504 -0.154570 -0.112315  0.020955 -0.560406 -0.239921   \n",
      "Sex          -0.125424  0.064199  0.047005  0.042370  0.330607  0.146648   \n",
      "Age          -0.053904  0.081695  0.033445 -0.083718  0.159432 -0.060751   \n",
      "Vehicle_type -0.107785  0.081910  0.087140 -0.000127  0.198116  0.100597   \n",
      "Vehicle_age   0.012161  0.062457 -0.057282 -0.052257  0.158706  0.034315   \n",
      "\n",
      "              Severity       Sex       Age  Vehicle_type  Vehicle_age  \n",
      "Lat           0.247504 -0.125424 -0.053904     -0.107785     0.012161  \n",
      "Long         -0.154570  0.064199  0.081695      0.081910     0.062457  \n",
      "Day          -0.112315  0.047005  0.033445      0.087140    -0.057282  \n",
      "Time          0.020955  0.042370 -0.083718     -0.000127    -0.052257  \n",
      "Weather      -0.560406  0.330607  0.159432      0.198116     0.158706  \n",
      "Light        -0.239921  0.146648 -0.060751      0.100597     0.034315  \n",
      "Severity      1.000000 -0.482943 -0.230921     -0.354523    -0.211815  \n",
      "Sex          -0.482943  1.000000  0.128547      0.106006     0.086246  \n",
      "Age          -0.230921  0.128547  1.000000      0.038461     0.073945  \n",
      "Vehicle_type -0.354523  0.106006  0.038461      1.000000     0.126893  \n",
      "Vehicle_age  -0.211815  0.086246  0.073945      0.126893     1.000000  \n"
     ]
    },
    {
     "data": {
      "image/png": "[encoded data removed]",
      "text/plain": [
       "<Figure size 432x288 with 2 Axes>"
      ]
     },
     "metadata": {
      "needs_background": "light"
     },
     "output_type": "display_data"
    }
   ],
   "source": [
    "# Calculate the correlation matrix\n",
    "corr_matrix = df.corr()\n",
    "\n",
    "# Display the correlation matrix\n",
    "print(corr_matrix)\n",
    "\n",
    "# Visualize the correlation matrix using a heatmap\n",
    "sns.heatmap(corr_matrix, annot=True, cmap='coolwarm')\n",
    "plt.title('Correlation Heatmap')\n",
    "plt.show()"
   ]
  },
  {
   "cell_type": "markdown",
   "metadata": {},
   "source": [
    "Split the dataset"
   ]
  },
  {
   "cell_type": "code",
   "execution_count": 10,
   "metadata": {
    "colab": {
     "base_uri": "https://localhost:8080/"
    },
    "id": "wtYuyHxl7rJY",
    "outputId": "36c8664f-7ed5-4dc6-b54d-66f6ef974491"
   },
   "outputs": [
    {
     "name": "stdout",
     "output_type": "stream",
     "text": [
      "[[ 0.13548839  0.09655701 -1.55300577 ... -1.14828804  0.81212946\n",
      "  -0.96115045]\n",
      " [ 0.13548839  0.09655701 -1.55300577 ... -0.67631644 -1.10569471\n",
      "  -0.96115045]\n",
      " [ 1.72219772  0.67135305  1.6122424  ... -1.14828804 -1.10569471\n",
      "  -0.36176084]\n",
      " ...\n",
      " [-0.09866532 -1.29944894 -1.0254644  ... -0.0020713   1.2915855\n",
      "   0.08778137]\n",
      " [ 1.54913843  1.05023985 -0.49792304 ...  0.94187189 -1.10569471\n",
      "  -0.36176084]\n",
      " [ 1.05365023  0.46475231  1.08470104 ... -1.14828804  0.81212946\n",
      "   0.98686579]]\n"
     ]
    }
   ],
   "source": [
    "# Split the data into training and test sets\n",
    "features = df.drop('Severity', axis=1)\n",
    "y = df['Severity']\n",
    "X = standardization(features) #scaled data"
   ]
  },
  {
   "cell_type": "code",
   "execution_count": 11,
   "metadata": {
    "id": "43SocHXsReRU"
   },
   "outputs": [],
   "source": [
    "X_train, X_test, y_train, y_test = train_test_split(X, y, test_size=0.2, random_state=0)"
   ]
  },
  {
   "cell_type": "code",
   "execution_count": 12,
   "metadata": {
    "colab": {
     "base_uri": "https://localhost:8080/"
    },
    "id": "0DpgADat8lor",
    "outputId": "f847c1fe-b110-4a27-a0e7-30ed4325632e"
   },
   "outputs": [
    {
     "data": {
      "text/plain": [
       "array([[ 0.13548839,  0.09655701, -1.55300577, ..., -1.14828804,\n",
       "         0.81212946, -0.96115045],\n",
       "       [ 0.13548839,  0.09655701, -1.55300577, ..., -0.67631644,\n",
       "        -1.10569471, -0.96115045],\n",
       "       [ 1.72219772,  0.67135305,  1.6122424 , ..., -1.14828804,\n",
       "        -1.10569471, -0.36176084],\n",
       "       ...,\n",
       "       [-0.09866532, -1.29944894, -1.0254644 , ..., -0.0020713 ,\n",
       "         1.2915855 ,  0.08778137],\n",
       "       [ 1.54913843,  1.05023985, -0.49792304, ...,  0.94187189,\n",
       "        -1.10569471, -0.36176084],\n",
       "       [ 1.05365023,  0.46475231,  1.08470104, ..., -1.14828804,\n",
       "         0.81212946,  0.98686579]])"
      ]
     },
     "execution_count": 12,
     "metadata": {},
     "output_type": "execute_result"
    }
   ],
   "source": [
    "X"
   ]
  },
  {
   "cell_type": "code",
   "execution_count": 13,
   "metadata": {
    "colab": {
     "base_uri": "https://localhost:8080/",
     "height": 424
    },
    "id": "Jz146C5N8prz",
    "outputId": "83a33d0a-8d22-4c6b-c353-cd71d49f53e4"
   },
   "outputs": [
    {
     "data": {
      "text/plain": [
       "0      3.0\n",
       "1      3.0\n",
       "2      4.0\n",
       "3      4.0\n",
       "4      4.0\n",
       "      ... \n",
       "969    2.0\n",
       "970    3.0\n",
       "971    3.0\n",
       "972    2.0\n",
       "973    2.0\n",
       "Name: Severity, Length: 944, dtype: float64"
      ]
     },
     "execution_count": 13,
     "metadata": {},
     "output_type": "execute_result"
    }
   ],
   "source": [
    "y"
   ]
  },
  {
   "cell_type": "code",
   "execution_count": 14,
   "metadata": {},
   "outputs": [
    {
     "name": "stdout",
     "output_type": "stream",
     "text": [
      "     Severity\n",
      "668       0.0\n",
      "575       0.0\n",
      "718       0.0\n",
      "14        4.0\n",
      "275       3.0\n",
      "..        ...\n",
      "453       4.0\n",
      "325       4.0\n",
      "65        4.0\n",
      "83        4.0\n",
      "673       0.0\n",
      "\n",
      "[189 rows x 1 columns]\n"
     ]
    }
   ],
   "source": [
    "print(df.loc[y_test.index, ['Severity']])\n",
    "\n",
    "# Get the Severity test data as a DataFrame\n",
    "y_test_df = df.loc[y_test.index, ['Severity']]\n",
    "\n",
    "# Save the DataFrame to a CSV file\n",
    "y_test_df.to_csv('y_test.csv', index=False)"
   ]
  },
  {
   "cell_type": "code",
   "execution_count": 15,
   "metadata": {},
   "outputs": [
    {
     "name": "stdout",
     "output_type": "stream",
     "text": [
      "          Lat      Long       Day      Time   Weather     Light       Sex  \\\n",
      "0   -1.089642  0.378507 -1.553006 -0.436915 -0.525048 -0.758920 -0.613264   \n",
      "1   -0.186442 -0.249033 -1.553006 -0.917805 -0.525048 -0.758920  1.630618   \n",
      "2   -0.183075  0.754441  0.029618  1.081156  1.904587  1.317662 -0.613264   \n",
      "3    1.324710 -1.027070 -0.497923 -0.405079 -0.525048 -0.758920 -0.613264   \n",
      "4    1.670704  0.192475  0.029618 -0.911103 -0.525048 -0.758920 -0.613264   \n",
      "..        ...       ...       ...       ...       ...       ...       ...   \n",
      "184 -0.871198 -0.211257 -0.497923 -0.446969 -0.525048 -0.758920 -0.613264   \n",
      "185  0.683094 -0.823015 -0.497923 -0.607824 -0.525048 -0.758920 -0.613264   \n",
      "186  0.811766 -1.071567  0.557160 -0.262655 -0.525048 -0.758920 -0.613264   \n",
      "187 -1.046502  1.283315  1.612242  0.089216 -0.525048 -0.758920 -0.613264   \n",
      "188 -1.099492  0.435325  0.029618 -1.063580 -0.525048 -0.758920 -0.613264   \n",
      "\n",
      "          Age  Vehicle_type  Vehicle_age  \n",
      "0    1.953240      0.812129     1.736103  \n",
      "1    0.537325      1.291586    -0.811303  \n",
      "2    1.413843     -0.626239     0.687171  \n",
      "3   -0.676316     -1.105695    -1.110998  \n",
      "4   -1.350562      1.291586    -0.961150  \n",
      "..        ...           ...          ...  \n",
      "184 -0.811165     -0.626239    -0.961150  \n",
      "185  1.885815     -1.105695     0.087781  \n",
      "186 -0.406618      1.291586     0.687171  \n",
      "187  0.537325     -1.105695    -0.961150  \n",
      "188 -1.215713      1.291586    -1.110998  \n",
      "\n",
      "[189 rows x 10 columns]\n"
     ]
    }
   ],
   "source": [
    "# Get the column names from the original DataFrame\n",
    "feature_cols = df.columns.drop('Severity')\n",
    "\n",
    "# Convert X_test to a NumPy array\n",
    "X_test_array = np.array(X_test)\n",
    "\n",
    "# Create a new DataFrame with the NumPy array and column names\n",
    "X_test_df = pd.DataFrame(X_test_array, columns=feature_cols)\n",
    "\n",
    "# Print the DataFrame\n",
    "print(X_test_df)"
   ]
  },
  {
   "cell_type": "code",
   "execution_count": 16,
   "metadata": {},
   "outputs": [
    {
     "name": "stdout",
     "output_type": "stream",
     "text": [
      "          Lat       Long  Day   Time  Weather  Light  Sex   Age  Vehicle_type  \\\n",
      "0    6.862113  79.904256  1.0  10.16      1.0    1.0  1.0  72.0           5.0   \n",
      "1    6.869357  79.898093  1.0   7.29      1.0    1.0  2.0  51.0           6.0   \n",
      "2    6.869384  79.907948  4.0  19.22      2.0    2.0  1.0  64.0           2.0   \n",
      "3    6.881477  79.890452  3.0  10.35      1.0    1.0  1.0  33.0           1.0   \n",
      "4    6.884252  79.902429  4.0   7.33      1.0    1.0  1.0  23.0           6.0   \n",
      "..        ...        ...  ...    ...      ...    ...  ...   ...           ...   \n",
      "184  6.863865  79.898464  3.0  10.10      1.0    1.0  1.0  31.0           2.0   \n",
      "185  6.876331  79.892456  3.0   9.14      1.0    1.0  1.0  71.0           1.0   \n",
      "186  6.877363  79.890015  5.0  11.20      1.0    1.0  1.0  37.0           6.0   \n",
      "187  6.862459  79.913142  7.0  13.30      1.0    1.0  1.0  51.0           1.0   \n",
      "188  6.862034  79.904814  4.0   6.42      1.0    1.0  1.0  25.0           6.0   \n",
      "\n",
      "     Vehicle_age  \n",
      "0           20.0  \n",
      "1            3.0  \n",
      "2           13.0  \n",
      "3            1.0  \n",
      "4            2.0  \n",
      "..           ...  \n",
      "184          2.0  \n",
      "185          9.0  \n",
      "186         13.0  \n",
      "187          2.0  \n",
      "188          1.0  \n",
      "\n",
      "[189 rows x 10 columns]\n"
     ]
    }
   ],
   "source": [
    "# Inverse transform the X_test data to get the original values\n",
    "X_test_orig = scaler.inverse_transform(X_test)\n",
    "\n",
    "# Print the X_test data with the column names\n",
    "X_test_df = pd.DataFrame(X_test_orig, columns=features.columns)\n",
    "print(X_test_df)"
   ]
  },
  {
   "cell_type": "code",
   "execution_count": 17,
   "metadata": {},
   "outputs": [],
   "source": [
    "X_test_df.to_csv('X_test.csv', index=False)"
   ]
  },
  {
   "cell_type": "markdown",
   "metadata": {},
   "source": [
    "Modeling"
   ]
  },
  {
   "cell_type": "code",
   "execution_count": 18,
   "metadata": {
    "colab": {
     "base_uri": "https://localhost:8080/"
    },
    "id": "ma2Enwjq7rJZ",
    "outputId": "dc3d7659-cea1-4b2a-d6e1-d45d3c77a26a"
   },
   "outputs": [],
   "source": [
    "ab=AdaBoostClassifier()\n",
    "rf=RandomForestClassifier()\n"
   ]
  },
  {
   "cell_type": "code",
   "execution_count": 19,
   "metadata": {},
   "outputs": [],
   "source": [
    "# Create an instance of the voting classifier\n",
    "voting_clf = VotingClassifier(estimators=[('ab', ab), ('rf', rf)], voting='soft')\n"
   ]
  },
  {
   "cell_type": "code",
   "execution_count": 20,
   "metadata": {},
   "outputs": [
    {
     "data": {
      "text/plain": [
       "VotingClassifier(estimators=[('ab', AdaBoostClassifier()),\n",
       "                             ('rf', RandomForestClassifier())],\n",
       "                 voting='soft')"
      ]
     },
     "execution_count": 20,
     "metadata": {},
     "output_type": "execute_result"
    }
   ],
   "source": [
    "# Fit the voting classifier to the training data\n",
    "voting_clf.fit(X_train, y_train)\n"
   ]
  },
  {
   "cell_type": "code",
   "execution_count": 21,
   "metadata": {},
   "outputs": [],
   "source": [
    "# Make predictions using the voting classifier\n",
    "y_pred = voting_clf.predict(X_test)"
   ]
  },
  {
   "cell_type": "code",
   "execution_count": 22,
   "metadata": {
    "id": "0wpS6eHV7rJZ"
   },
   "outputs": [
    {
     "data": {
      "text/plain": [
       "array([0., 0., 0., 4., 3., 4., 2., 0., 0., 4., 4., 4., 1., 4., 4., 0., 4.,\n",
       "       2., 0., 0., 0., 1., 4., 0., 2., 0., 4., 3., 0., 4., 4., 0., 0., 1.,\n",
       "       4., 4., 4., 4., 0., 0., 0., 1., 0., 3., 4., 3., 4., 0., 4., 3., 0.,\n",
       "       0., 0., 3., 4., 4., 4., 4., 4., 3., 0., 3., 4., 0., 0., 0., 0., 0.,\n",
       "       0., 4., 4., 0., 3., 4., 4., 0., 0., 1., 4., 4., 0., 4., 0., 2., 0.,\n",
       "       0., 4., 0., 4., 4., 3., 4., 0., 0., 0., 0., 2., 4., 0., 4., 0., 4.,\n",
       "       4., 4., 0., 0., 0., 0., 4., 4., 0., 3., 1., 4., 0., 4., 0., 0., 4.,\n",
       "       1., 0., 4., 0., 1., 4., 4., 0., 0., 4., 2., 0., 4., 0., 0., 4., 0.,\n",
       "       4., 3., 3., 4., 4., 4., 1., 0., 0., 3., 2., 4., 0., 4., 4., 0., 0.,\n",
       "       0., 0., 1., 4., 4., 1., 4., 4., 4., 4., 4., 3., 3., 0., 1., 0., 0.,\n",
       "       4., 4., 4., 4., 0., 3., 4., 3., 0., 4., 4., 4., 0., 4., 4., 4., 4.,\n",
       "       4., 0.])"
      ]
     },
     "execution_count": 22,
     "metadata": {},
     "output_type": "execute_result"
    }
   ],
   "source": [
    "y_pred"
   ]
  },
  {
   "cell_type": "markdown",
   "metadata": {},
   "source": [
    "Evaluation"
   ]
  },
  {
   "cell_type": "code",
   "execution_count": 23,
   "metadata": {
    "colab": {
     "base_uri": "https://localhost:8080/"
    },
    "id": "F8uVZBiY7rJZ",
    "outputId": "8c29cca2-c472-4afb-8809-2d0aa8880b49"
   },
   "outputs": [
    {
     "name": "stdout",
     "output_type": "stream",
     "text": [
      "Accuracy: 0.9206\n",
      "Precision: 0.9247\n",
      "Recall: 0.9206\n",
      "F1-score:  0.9207\n"
     ]
    }
   ],
   "source": [
    "# evaluate the performance\n",
    "print(\"Accuracy: %0.4f\" % accuracy_score(y_test, y_pred))\n",
    "print(\"Precision: %0.4f\" % precision_score(y_test, y_pred, average='weighted'))\n",
    "print(\"Recall: %0.4f\" % recall_score(y_test, y_pred, average='weighted'))\n",
    "print(\"F1-score:  %0.4f\" % f1_score(y_test, y_pred, average='weighted'))"
   ]
  },
  {
   "cell_type": "code",
   "execution_count": 24,
   "metadata": {},
   "outputs": [],
   "source": [
    "# Save the model as a pickle file\n",
    "with open('votingModel.pkl', 'wb') as f:\n",
    "    pickle.dump(voting_clf, f)"
   ]
  },
  {
   "cell_type": "code",
   "execution_count": null,
   "metadata": {},
   "outputs": [],
   "source": [
    "# Create a pickle file for the scaler\n",
    "with open('scaler.pkl', 'wb') as f:\n",
    "    pickle.dump(scaler, f)"
   ]
  },
  {
   "cell_type": "code",
   "execution_count": null,
   "metadata": {},
   "outputs": [],
   "source": []
  }
 ],
 "metadata": {
  "colab": {
   "provenance": []
  },
  "kernelspec": {
   "display_name": "Python 3 (ipykernel)",
   "language": "python",
   "name": "python3"
  },
  "language_info": {
   "codemirror_mode": {
    "name": "ipython",
    "version": 3
   },
   "file_extension": ".py",
   "mimetype": "text/x-python",
   "name": "python",
   "nbconvert_exporter": "python",
   "pygments_lexer": "ipython3",
   "version": "3.9.12"
  },
  "vscode": {
   "interpreter": {
    "hash": "8bcfe50ca08a17b0c4b14f1945e5acf30df623b191943573ee70e01489a1e93c"
   }
  }
 },
 "nbformat": 4,
 "nbformat_minor": 1
}
